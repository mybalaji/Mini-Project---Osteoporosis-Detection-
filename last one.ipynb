{
 "cells": [
  {
   "cell_type": "code",
   "execution_count": 1,
   "id": "51f932c7",
   "metadata": {},
   "outputs": [
    {
     "name": "stdout",
     "output_type": "stream",
     "text": [
      "['normal', 'osteopenia', 'osteoporosis']\n",
      "categories of disease:  3\n"
     ]
    }
   ],
   "source": [
    "import numpy as np \n",
    "import pandas as pd \n",
    "import matplotlib.pyplot as plt\n",
    "import os\n",
    "\n",
    "dataset_path = os.listdir('hahaha')\n",
    "\n",
    "room_types = os.listdir('hahaha')\n",
    "print (room_types) \n",
    "\n",
    "print(\"categories of disease: \", len(dataset_path))"
   ]
  },
  {
   "cell_type": "code",
   "execution_count": 2,
   "id": "cbc5cd15",
   "metadata": {},
   "outputs": [],
   "source": [
    "rooms = []\n",
    "for item in room_types:\n",
    "    all_rooms = os.listdir('hahaha' + '/' +item)\n",
    "\n",
    "    for room in all_rooms:\n",
    "        \n",
    "        rooms.append((item, str('hahaha' + '/' +item) + '/' + room))\n",
    "#         print(rooms)"
   ]
  },
  {
   "cell_type": "code",
   "execution_count": 3,
   "id": "5f12a6f6",
   "metadata": {},
   "outputs": [
    {
     "name": "stdout",
     "output_type": "stream",
     "text": [
      "                Y                                   images\n",
      "0          normal                    hahaha/normal/N1.JPEG\n",
      "1          normal                   hahaha/normal/N10.JPEG\n",
      "2          normal                   hahaha/normal/N11.JPEG\n",
      "3          normal                   hahaha/normal/N12.JPEG\n",
      "4          normal                    hahaha/normal/N13.jpg\n",
      "..            ...                                      ...\n",
      "606  osteoporosis  hahaha/osteoporosis/Osteoporosis_95.jpg\n",
      "607  osteoporosis  hahaha/osteoporosis/Osteoporosis_96.jpg\n",
      "608  osteoporosis  hahaha/osteoporosis/Osteoporosis_97.jpg\n",
      "609  osteoporosis  hahaha/osteoporosis/Osteoporosis_98.jpg\n",
      "610  osteoporosis  hahaha/osteoporosis/Osteoporosis_99.jpg\n",
      "\n",
      "[611 rows x 2 columns]\n"
     ]
    },
    {
     "data": {
      "text/plain": [
       "(611, 2)"
      ]
     },
     "execution_count": 3,
     "metadata": {},
     "output_type": "execute_result"
    }
   ],
   "source": [
    "osteo_df = pd.DataFrame(data=rooms, columns=['Y', 'images'])\n",
    "print(osteo_df)\n",
    "osteo_df.shape"
   ]
  },
  {
   "cell_type": "code",
   "execution_count": 4,
   "id": "913dc56a",
   "metadata": {},
   "outputs": [],
   "source": [
    "images, Y = osteo_df['images'] , osteo_df['Y']"
   ]
  },
  {
   "cell_type": "code",
   "execution_count": 5,
   "id": "b0db877b",
   "metadata": {},
   "outputs": [],
   "source": [
    "from sklearn.model_selection import train_test_split\n",
    "\n",
    "# Assuming you have loaded your dataset into 'images' and 'Y' arrays\n",
    "\n",
    "# Shuffle the data\n",
    "# images, Y = shuffle(images, Y, random_state=42)\n",
    "\n",
    "# Split into train and test sets\n",
    "train_x, test_x, train_y, test_y = train_test_split(images, Y, test_size=0.05, random_state=27)\n"
   ]
  },
  {
   "cell_type": "code",
   "execution_count": 6,
   "id": "f302a82b",
   "metadata": {},
   "outputs": [
    {
     "data": {
      "text/plain": [
       "(580,)"
      ]
     },
     "execution_count": 6,
     "metadata": {},
     "output_type": "execute_result"
    }
   ],
   "source": [
    "train_x.shape"
   ]
  },
  {
   "cell_type": "code",
   "execution_count": 7,
   "id": "dd06f891",
   "metadata": {},
   "outputs": [
    {
     "data": {
      "text/plain": [
       "count               31\n",
       "unique               3\n",
       "top       osteoporosis\n",
       "freq                12\n",
       "Name: Y, dtype: object"
      ]
     },
     "execution_count": 7,
     "metadata": {},
     "output_type": "execute_result"
    }
   ],
   "source": [
    "a = np.array(test_y)\n",
    "test_y.describe()"
   ]
  },
  {
   "cell_type": "code",
   "execution_count": 8,
   "id": "3cda130a",
   "metadata": {},
   "outputs": [
    {
     "name": "stdout",
     "output_type": "stream",
     "text": [
      "normal: 11\n",
      "osteopenia: 8\n",
      "osteoporosis: 12\n"
     ]
    }
   ],
   "source": [
    "categories, counts = np.unique(a, return_counts=True)\n",
    "for category, count in zip(categories, counts):\n",
    "    print(f'{category}: {count}')"
   ]
  },
  {
   "cell_type": "code",
   "execution_count": 9,
   "id": "7d4b3bd8",
   "metadata": {},
   "outputs": [
    {
     "name": "stdout",
     "output_type": "stream",
     "text": [
      "WARNING:tensorflow:From C:\\Users\\piriy\\anaconda3\\lib\\site-packages\\keras\\src\\losses.py:2976: The name tf.losses.sparse_softmax_cross_entropy is deprecated. Please use tf.compat.v1.losses.sparse_softmax_cross_entropy instead.\n",
      "\n"
     ]
    }
   ],
   "source": [
    "import tensorflow as tf\n",
    "from tensorflow.keras.optimizers import Adam\n",
    "from tensorflow.keras.layers import Input, Conv2D, MaxPooling2D, Flatten, Dense, Dropout\n",
    "from tensorflow.keras.models import Model\n",
    "from tensorflow.keras.initializers import GlorotNormal"
   ]
  },
  {
   "cell_type": "code",
   "execution_count": 10,
   "id": "b5ca0f35",
   "metadata": {},
   "outputs": [],
   "source": [
    "import cv2\n",
    "import numpy as np\n",
    "\n",
    "def preprocess_images(images):\n",
    "    processed_images = []\n",
    "    for img in images:\n",
    "        img = cv2.imread(img)\n",
    "        # Resize image to (227, 227)\n",
    "        resized_img = cv2.resize(img, (227, 227))\n",
    "        # Preprocess the image (normalize pixel values to range [0, 1])\n",
    "        resized_img = resized_img / 255.0  \n",
    "        processed_images.append(resized_img)\n",
    "    return np.array(processed_images)\n",
    "\n",
    "# Preprocess train and test images\n",
    "train_x_processed = preprocess_images(train_x)\n",
    "test_x_processed = preprocess_images(test_x)\n"
   ]
  },
  {
   "cell_type": "code",
   "execution_count": 11,
   "id": "2752a68b",
   "metadata": {},
   "outputs": [],
   "source": [
    "from sklearn.preprocessing import LabelEncoder\n",
    "from keras.utils import to_categorical\n",
    "\n",
    "# Initialize LabelEncoder\n",
    "label_encoder = LabelEncoder()\n",
    "\n",
    "# Fit label encoder and transform target labels\n",
    "train_y_encoded = label_encoder.fit_transform(train_y)\n",
    "test_y_encoded = label_encoder.transform(test_y)\n",
    "\n",
    "# Convert the encoded labels to one-hot encoded format\n",
    "train_y_onehot = to_categorical(train_y_encoded)\n",
    "test_y_onehot = to_categorical(test_y_encoded)\n"
   ]
  },
  {
   "cell_type": "code",
   "execution_count": 12,
   "id": "f5203997",
   "metadata": {},
   "outputs": [],
   "source": [
    "def AlexNet(input_shape=(227, 227, 3), num_classes=3):\n",
    "    # Input layer\n",
    "    inputs = Input(shape=input_shape)\n",
    "\n",
    "    # Layer 1\n",
    "    x = Conv2D(96, (11, 11), strides=(4, 4), activation='relu', padding='valid', kernel_initializer = GlorotNormal())(inputs)\n",
    "    x = MaxPooling2D(pool_size=(3, 3), strides=(2, 2))(x)\n",
    "\n",
    "    # Layer 2\n",
    "    x = Conv2D(256, (5, 5), activation='relu', padding='same',kernel_initializer = GlorotNormal())(x)\n",
    "    x = MaxPooling2D(pool_size=(3, 3), strides=(2, 2))(x)\n",
    "\n",
    "    # Layer 3\n",
    "    x = Conv2D(384, (3, 3), activation='relu', padding='same',kernel_initializer = GlorotNormal())(x)\n",
    "\n",
    "    # Layer 4\n",
    "    x = Conv2D(384, (3, 3), activation='relu', padding='same',kernel_initializer = GlorotNormal())(x)\n",
    "\n",
    "    # Layer 5\n",
    "    x = Conv2D(256, (3, 3), activation='relu', padding='same',kernel_initializer = GlorotNormal())(x)\n",
    "    x = MaxPooling2D(pool_size=(3, 3), strides=(2, 2))(x)\n",
    "\n",
    "    # Flatten\n",
    "    x = Flatten()(x)\n",
    "\n",
    "    # Layer 6\n",
    "    x = Dense(4096, activation='relu',kernel_initializer = GlorotNormal())(x)\n",
    "    x = Dropout(0.5)(x)\n",
    "\n",
    "    # Layer 7\n",
    "    x = Dense(4096, activation='relu',kernel_initializer = GlorotNormal())(x)\n",
    "    x = Dropout(0.5)(x)\n",
    "\n",
    "    # Output layer\n",
    "    outputs = Dense(num_classes, activation='softmax')(x)\n",
    "\n",
    "    # Create model\n",
    "    model = Model(inputs, outputs, name='alexnet')\n",
    "\n",
    "    return model"
   ]
  },
  {
   "cell_type": "code",
   "execution_count": 15,
   "id": "7181ae2f",
   "metadata": {},
   "outputs": [
    {
     "name": "stdout",
     "output_type": "stream",
     "text": [
      "WARNING:tensorflow:From C:\\Users\\piriy\\anaconda3\\lib\\site-packages\\keras\\src\\backend.py:1398: The name tf.executing_eagerly_outside_functions is deprecated. Please use tf.compat.v1.executing_eagerly_outside_functions instead.\n",
      "\n",
      "WARNING:tensorflow:From C:\\Users\\piriy\\anaconda3\\lib\\site-packages\\keras\\src\\layers\\pooling\\max_pooling2d.py:161: The name tf.nn.max_pool is deprecated. Please use tf.nn.max_pool2d instead.\n",
      "\n"
     ]
    }
   ],
   "source": [
    "# Create AlexNet model\n",
    "alexnet_model = AlexNet(input_shape=(227, 227, 3), num_classes=3)\n",
    "optimizer = Adam(learning_rate = 0.0001)\n",
    "    \n",
    "alexnet_model.compile(optimizer = optimizer, loss='categorical_crossentropy', metrics = ['accuracy'])"
   ]
  },
  {
   "cell_type": "code",
   "execution_count": 31,
   "id": "80403e61",
   "metadata": {
    "scrolled": false
   },
   "outputs": [
    {
     "name": "stdout",
     "output_type": "stream",
     "text": [
      "Epoch 1/50\n",
      "WARNING:tensorflow:From C:\\Users\\piriy\\anaconda3\\lib\\site-packages\\keras\\src\\utils\\tf_utils.py:492: The name tf.ragged.RaggedTensorValue is deprecated. Please use tf.compat.v1.ragged.RaggedTensorValue instead.\n",
      "\n",
      "WARNING:tensorflow:From C:\\Users\\piriy\\anaconda3\\lib\\site-packages\\keras\\src\\engine\\base_layer_utils.py:384: The name tf.executing_eagerly_outside_functions is deprecated. Please use tf.compat.v1.executing_eagerly_outside_functions instead.\n",
      "\n",
      "29/29 [==============================] - 29s 878ms/step - loss: 1.0719 - accuracy: 0.3983 - val_loss: 1.0394 - val_accuracy: 0.3871\n",
      "Epoch 2/50\n",
      "29/29 [==============================] - 23s 778ms/step - loss: 0.9626 - accuracy: 0.5086 - val_loss: 0.8859 - val_accuracy: 0.6129\n",
      "Epoch 3/50\n",
      "29/29 [==============================] - 23s 790ms/step - loss: 0.8804 - accuracy: 0.5638 - val_loss: 0.8862 - val_accuracy: 0.6452\n",
      "Epoch 4/50\n",
      "29/29 [==============================] - 23s 802ms/step - loss: 0.8905 - accuracy: 0.5914 - val_loss: 0.8247 - val_accuracy: 0.6452\n",
      "Epoch 5/50\n",
      "29/29 [==============================] - 23s 781ms/step - loss: 0.8358 - accuracy: 0.5793 - val_loss: 0.7929 - val_accuracy: 0.6452\n",
      "Epoch 6/50\n",
      "29/29 [==============================] - 23s 790ms/step - loss: 0.8235 - accuracy: 0.6207 - val_loss: 0.7637 - val_accuracy: 0.6452\n",
      "Epoch 7/50\n",
      "29/29 [==============================] - 23s 789ms/step - loss: 0.7954 - accuracy: 0.6259 - val_loss: 0.8542 - val_accuracy: 0.6452\n",
      "Epoch 8/50\n",
      "29/29 [==============================] - 23s 789ms/step - loss: 0.7846 - accuracy: 0.6603 - val_loss: 0.9307 - val_accuracy: 0.6129\n",
      "Epoch 9/50\n",
      "29/29 [==============================] - 24s 818ms/step - loss: 0.7843 - accuracy: 0.6414 - val_loss: 0.7971 - val_accuracy: 0.6129\n",
      "Epoch 10/50\n",
      "29/29 [==============================] - 24s 826ms/step - loss: 0.7477 - accuracy: 0.6466 - val_loss: 0.8447 - val_accuracy: 0.6129\n",
      "Epoch 11/50\n",
      "29/29 [==============================] - 23s 809ms/step - loss: 0.7168 - accuracy: 0.6793 - val_loss: 0.8008 - val_accuracy: 0.6129\n",
      "Epoch 12/50\n",
      "29/29 [==============================] - 24s 829ms/step - loss: 0.7204 - accuracy: 0.6690 - val_loss: 0.8050 - val_accuracy: 0.6129\n",
      "Epoch 13/50\n",
      "29/29 [==============================] - 24s 833ms/step - loss: 0.7057 - accuracy: 0.6879 - val_loss: 0.7888 - val_accuracy: 0.5806\n",
      "Epoch 14/50\n",
      "29/29 [==============================] - 23s 801ms/step - loss: 0.6303 - accuracy: 0.7293 - val_loss: 0.7221 - val_accuracy: 0.6129\n",
      "Epoch 15/50\n",
      "29/29 [==============================] - 24s 825ms/step - loss: 0.5901 - accuracy: 0.7569 - val_loss: 0.8600 - val_accuracy: 0.6452\n",
      "Epoch 16/50\n",
      "29/29 [==============================] - 23s 805ms/step - loss: 0.5937 - accuracy: 0.7310 - val_loss: 0.8219 - val_accuracy: 0.6452\n",
      "Epoch 17/50\n",
      "29/29 [==============================] - 24s 824ms/step - loss: 0.5733 - accuracy: 0.7638 - val_loss: 0.8398 - val_accuracy: 0.6129\n",
      "Epoch 18/50\n",
      "29/29 [==============================] - 24s 820ms/step - loss: 0.5874 - accuracy: 0.7466 - val_loss: 0.8455 - val_accuracy: 0.6774\n",
      "Epoch 19/50\n",
      "29/29 [==============================] - 23s 800ms/step - loss: 0.5402 - accuracy: 0.7534 - val_loss: 0.8396 - val_accuracy: 0.7097\n",
      "Epoch 20/50\n",
      "29/29 [==============================] - 24s 825ms/step - loss: 0.5085 - accuracy: 0.7897 - val_loss: 0.7949 - val_accuracy: 0.6774\n",
      "Epoch 21/50\n",
      "29/29 [==============================] - 23s 796ms/step - loss: 0.4705 - accuracy: 0.8034 - val_loss: 0.8748 - val_accuracy: 0.6452\n",
      "Epoch 22/50\n",
      "29/29 [==============================] - 23s 797ms/step - loss: 0.4447 - accuracy: 0.8207 - val_loss: 0.8704 - val_accuracy: 0.6452\n",
      "Epoch 23/50\n",
      "29/29 [==============================] - 23s 798ms/step - loss: 0.4472 - accuracy: 0.8241 - val_loss: 1.1852 - val_accuracy: 0.6774\n",
      "Epoch 24/50\n",
      "29/29 [==============================] - 23s 797ms/step - loss: 0.4193 - accuracy: 0.8138 - val_loss: 1.0532 - val_accuracy: 0.7742\n",
      "Epoch 25/50\n",
      "29/29 [==============================] - 24s 814ms/step - loss: 0.3732 - accuracy: 0.8466 - val_loss: 1.2289 - val_accuracy: 0.7419\n",
      "Epoch 26/50\n",
      "29/29 [==============================] - 23s 801ms/step - loss: 0.4081 - accuracy: 0.8293 - val_loss: 1.0563 - val_accuracy: 0.6452\n",
      "Epoch 27/50\n",
      "29/29 [==============================] - 23s 798ms/step - loss: 0.3350 - accuracy: 0.8552 - val_loss: 0.7363 - val_accuracy: 0.7742\n",
      "Epoch 28/50\n",
      "29/29 [==============================] - 23s 798ms/step - loss: 0.3368 - accuracy: 0.8621 - val_loss: 0.9935 - val_accuracy: 0.6774\n",
      "Epoch 29/50\n",
      "29/29 [==============================] - 23s 795ms/step - loss: 0.2875 - accuracy: 0.8845 - val_loss: 1.4441 - val_accuracy: 0.7097\n",
      "Epoch 30/50\n",
      "29/29 [==============================] - 23s 802ms/step - loss: 0.2742 - accuracy: 0.8879 - val_loss: 1.2951 - val_accuracy: 0.6774\n",
      "Epoch 31/50\n",
      "29/29 [==============================] - 24s 812ms/step - loss: 0.2762 - accuracy: 0.8810 - val_loss: 1.0075 - val_accuracy: 0.7097\n",
      "Epoch 32/50\n",
      "29/29 [==============================] - 25s 859ms/step - loss: 0.2326 - accuracy: 0.9103 - val_loss: 1.5367 - val_accuracy: 0.6452\n",
      "Epoch 33/50\n",
      "29/29 [==============================] - 24s 814ms/step - loss: 0.2441 - accuracy: 0.9121 - val_loss: 0.9962 - val_accuracy: 0.5806\n",
      "Epoch 34/50\n",
      "29/29 [==============================] - 23s 795ms/step - loss: 0.2252 - accuracy: 0.9138 - val_loss: 0.9879 - val_accuracy: 0.7742\n",
      "Epoch 35/50\n",
      "29/29 [==============================] - 23s 802ms/step - loss: 0.2522 - accuracy: 0.9034 - val_loss: 1.0905 - val_accuracy: 0.7097\n",
      "Epoch 36/50\n",
      "29/29 [==============================] - 24s 820ms/step - loss: 0.1923 - accuracy: 0.9190 - val_loss: 1.3025 - val_accuracy: 0.8387\n",
      "Epoch 37/50\n",
      "29/29 [==============================] - 23s 803ms/step - loss: 0.1839 - accuracy: 0.9328 - val_loss: 1.3015 - val_accuracy: 0.7097\n",
      "Epoch 38/50\n",
      "29/29 [==============================] - 23s 800ms/step - loss: 0.1612 - accuracy: 0.9310 - val_loss: 1.3928 - val_accuracy: 0.6774\n",
      "Epoch 39/50\n",
      "29/29 [==============================] - 23s 796ms/step - loss: 0.1477 - accuracy: 0.9362 - val_loss: 1.2287 - val_accuracy: 0.8065\n",
      "Epoch 40/50\n",
      "29/29 [==============================] - 23s 798ms/step - loss: 0.1494 - accuracy: 0.9431 - val_loss: 0.9683 - val_accuracy: 0.7742\n",
      "Epoch 41/50\n",
      "29/29 [==============================] - 24s 818ms/step - loss: 0.1256 - accuracy: 0.9500 - val_loss: 1.2414 - val_accuracy: 0.7742\n",
      "Epoch 42/50\n",
      "29/29 [==============================] - 23s 798ms/step - loss: 0.1235 - accuracy: 0.9534 - val_loss: 1.3671 - val_accuracy: 0.7419\n",
      "Epoch 43/50\n",
      "29/29 [==============================] - 23s 797ms/step - loss: 0.1242 - accuracy: 0.9448 - val_loss: 1.1928 - val_accuracy: 0.8065\n",
      "Epoch 44/50\n",
      "29/29 [==============================] - 23s 809ms/step - loss: 0.1089 - accuracy: 0.9534 - val_loss: 1.2710 - val_accuracy: 0.7419\n",
      "Epoch 45/50\n",
      "29/29 [==============================] - 24s 823ms/step - loss: 0.1127 - accuracy: 0.9517 - val_loss: 1.4156 - val_accuracy: 0.7419\n",
      "Epoch 46/50\n",
      "29/29 [==============================] - 24s 820ms/step - loss: 0.0825 - accuracy: 0.9638 - val_loss: 1.2064 - val_accuracy: 0.7419\n",
      "Epoch 47/50\n",
      "29/29 [==============================] - 24s 813ms/step - loss: 0.1120 - accuracy: 0.9500 - val_loss: 1.0003 - val_accuracy: 0.7419\n",
      "Epoch 48/50\n",
      "29/29 [==============================] - 23s 793ms/step - loss: 0.0923 - accuracy: 0.9534 - val_loss: 1.4918 - val_accuracy: 0.7419\n",
      "Epoch 49/50\n",
      "29/29 [==============================] - 23s 795ms/step - loss: 0.0921 - accuracy: 0.9552 - val_loss: 1.3695 - val_accuracy: 0.7419\n",
      "Epoch 50/50\n",
      "29/29 [==============================] - 23s 809ms/step - loss: 0.0857 - accuracy: 0.9603 - val_loss: 1.2944 - val_accuracy: 0.7742\n"
     ]
    }
   ],
   "source": [
    "history = alexnet_model.fit(train_x_processed, train_y_onehot, batch_size=20, epochs=50, validation_data=(test_x_processed, test_y_onehot))"
   ]
  },
  {
   "cell_type": "code",
   "execution_count": null,
   "id": "ca61b921",
   "metadata": {},
   "outputs": [],
   "source": []
  },
  {
   "cell_type": "code",
   "execution_count": 32,
   "id": "f9ff23c0",
   "metadata": {},
   "outputs": [
    {
     "data": {
      "image/png": "[encoded data removed]",
      "text/plain": [
       "<Figure size 640x480 with 1 Axes>"
      ]
     },
     "metadata": {},
     "output_type": "display_data"
    }
   ],
   "source": [
    "import matplotlib.pyplot as plt\n",
    "\n",
    "def plot_loss(history):\n",
    "    train_loss = history.history['loss']\n",
    "    val_loss = history.history['val_loss']\n",
    "    acc = history.history['accuracy']\n",
    "    val_acc = history.history['val_accuracy']\n",
    "    epochs = range(1, len(train_loss) + 1)\n",
    "\n",
    "    plt.plot(epochs, train_loss, 'bo', label='Training loss')  # 'bo' for blue dots\n",
    "    plt.plot(epochs, val_loss, 'r', label='Validation loss')  # 'r' for solid red line\n",
    "    plt.plot(epochs, acc,'b', label='Training accuracy')\n",
    "    plt.plot(epochs, val_acc ,'y', label = 'Validation accuracy')\n",
    "    plt.title('Training and Validation Loss')\n",
    "    plt.xlabel('Epochs')\n",
    "    plt.ylabel('Loss')\n",
    "    plt.legend()\n",
    "\n",
    "    plt.show()\n",
    "\n",
    "# Assuming you have a 'history' object from your model's training process\n",
    "plot_loss(history)\n"
   ]
  },
  {
   "cell_type": "code",
   "execution_count": 33,
   "id": "b35ef6a0",
   "metadata": {},
   "outputs": [
    {
     "name": "stderr",
     "output_type": "stream",
     "text": [
      "C:\\Users\\piriy\\anaconda3\\lib\\site-packages\\keras\\src\\engine\\training.py:3103: UserWarning: You are saving your model as an HDF5 file via `model.save()`. This file format is considered legacy. We recommend using instead the native Keras format, e.g. `model.save('my_model.keras')`.\n",
      "  saving_api.save_model(\n"
     ]
    }
   ],
   "source": [
    "alexnet_model.save(\"Alex - Net.h5\")"
   ]
  },
  {
   "cell_type": "code",
   "execution_count": 34,
   "id": "eb506c2a",
   "metadata": {},
   "outputs": [],
   "source": [
    "alexnet_model.save(\"Alex - Net.keras\")"
   ]
  },
  {
   "cell_type": "code",
   "execution_count": 35,
   "id": "04d7621b",
   "metadata": {},
   "outputs": [],
   "source": [
    "from keras.models import load_model\n",
    "\n",
    "# Load the model\n",
    "loaded_model = load_model(\"Alex - Net.keras\")\n"
   ]
  },
  {
   "cell_type": "code",
   "execution_count": 36,
   "id": "0ded9ba3",
   "metadata": {},
   "outputs": [
    {
     "name": "stdout",
     "output_type": "stream",
     "text": [
      "1/1 [==============================] - 1s 709ms/step - loss: 1.2944 - accuracy: 0.7742\n",
      "Test Loss: 1.294367790222168\n",
      "Test Accuracy: 0.774193525314331\n"
     ]
    }
   ],
   "source": [
    "# Evaluate the model on the test set\n",
    "loss, accuracy = loaded_model.evaluate(test_x_processed, test_y_onehot)\n",
    "print(\"Test Loss:\", loss)\n",
    "print(\"Test Accuracy:\", accuracy)\n"
   ]
  },
  {
   "cell_type": "code",
   "execution_count": 37,
   "id": "40c71392",
   "metadata": {},
   "outputs": [
    {
     "name": "stdout",
     "output_type": "stream",
     "text": [
      "19/19 [==============================] - 4s 221ms/step - loss: 0.0579 - accuracy: 0.9690\n",
      "Test Loss: 0.05785081908106804\n",
      "Test Accuracy: 0.9689655303955078\n"
     ]
    }
   ],
   "source": [
    "# Evaluate the model on the train set\n",
    "loss, accuracy = loaded_model.evaluate(train_x_processed, train_y_onehot)\n",
    "print(\"Test Loss:\", loss)\n",
    "print(\"Test Accuracy:\", accuracy)\n"
   ]
  },
  {
   "cell_type": "code",
   "execution_count": null,
   "id": "9237e513",
   "metadata": {},
   "outputs": [],
   "source": []
  }
 ],
 "metadata": {
  "kernelspec": {
   "display_name": "Python 3 (ipykernel)",
   "language": "python",
   "name": "python3"
  },
  "language_info": {
   "codemirror_mode": {
    "name": "ipython",
    "version": 3
   },
   "file_extension": ".py",
   "mimetype": "text/x-python",
   "name": "python",
   "nbconvert_exporter": "python",
   "pygments_lexer": "ipython3",
   "version": "3.10.9"
  }
 },
 "nbformat": 4,
 "nbformat_minor": 5
}
